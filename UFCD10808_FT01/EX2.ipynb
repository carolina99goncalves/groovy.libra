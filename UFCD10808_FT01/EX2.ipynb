{
  "metadata": {
    "kernelspec": {
      "name": "python",
      "display_name": "Python (Pyodide)",
      "language": "python"
    },
    "language_info": {
      "codemirror_mode": {
        "name": "python",
        "version": 3
      },
      "file_extension": ".py",
      "mimetype": "text/x-python",
      "name": "python",
      "nbconvert_exporter": "python",
      "pygments_lexer": "ipython3",
      "version": "3.8"
    }
  },
  "nbformat_minor": 5,
  "nbformat": 4,
  "cells": [
    {
      "id": "5a374d51-1b1f-4c54-b333-7436559f406d",
      "cell_type": "markdown",
      "source": "# Revisão dos fundamentos de Python",
      "metadata": {}
    },
    {
      "id": "32b1593a-fdbd-437a-a8d6-6cb6260ff77e",
      "cell_type": "markdown",
      "source": "## 2- Manipulação de Dicionários",
      "metadata": {}
    },
    {
      "id": "9a6780ab-ceb8-4004-996a-67233faa79fd",
      "cell_type": "markdown",
      "source": "###  Dicionário \"utentes\"",
      "metadata": {}
    },
    {
      "id": "8018382e-07d0-4293-9c0c-04bf9f4e2286",
      "cell_type": "code",
      "source": "utentes = {\n    \"123456789\": {\n        \"nome\": \"João Silva\",\n        \"data_nascimento\": \"1985-07-10\",\n        \"dados_fisicos\": [1.78, 82]  #altura e peso\n    },\n    \"987654321\": {\n        \"nome\": \"Maria Oliveira\",\n        \"data_nascimento\": \"1990-03-25\",\n        \"dados_fisicos\": [1.65, 58] #altura e peso\n    },\n    \"112233445\": {\n        \"nome\": \"Carlos Pereira\",\n        \"data_nascimento\": \"1978-11-15\",\n        \"dados_fisicos\": [1.80, 75] #altura e peso\n    },\n    \"223344556\": {\n        \"nome\": \"Ana Costa\",\n        \"data_nascimento\": \"2000-05-22\",\n        \"dados_fisicos\": [1.68, 65] #altura e peso\n    }\n}\n",
      "metadata": {
        "trusted": true
      },
      "outputs": [],
      "execution_count": 3
    },
    {
      "id": "eba46e4e-e98f-4840-921f-d954f0f92a61",
      "cell_type": "markdown",
      "source": "a) imprimir a informação de cada utente",
      "metadata": {}
    },
    {
      "id": "d5e1d250-153e-4f4e-8ab4-d1da84714d5b",
      "cell_type": "code",
      "source": "for n_utente,dados in utentes.items():\n    print(\"Utente:\",n_utente)\n    print(\"dados:\",dados['nome'])\n    print(\"dados fisicos(altura):\",dados['dados_fisicos'][0])",
      "metadata": {
        "trusted": true
      },
      "outputs": [
        {
          "name": "stdout",
          "output_type": "stream",
          "text": "Utente: 123456789\ndados: João Silva\ndados fisicos(altura): 1.78\nUtente: 987654321\ndados: Maria Oliveira\ndados fisicos(altura): 1.65\nUtente: 112233445\ndados: Carlos Pereira\ndados fisicos(altura): 1.8\nUtente: 223344556\ndados: Ana Costa\ndados fisicos(altura): 1.68\n"
        }
      ],
      "execution_count": 3
    },
    {
      "id": "cb92e336-5b3f-4959-9951-5f4ab2889ebc",
      "cell_type": "markdown",
      "source": "b) identificar o utente mais alto",
      "metadata": {}
    },
    {
      "id": "08d7db25-60d2-4762-8175-3e2a3d31b0f8",
      "cell_type": "code",
      "source": "altura_maxima=0\nfor y in utentes.values():\n    altura = y['dados_fisicos'][0]\n    if( altura > altura_maxima):\n        altura_maxima = altura\n\nprint(\"Altura max:\",altura_maxima)\n\n\n\ndef utente_mais_alto(utentes):\n    altura_maxima = 0\n    utente_alto = None\n    \n    for utente in utentes.values():\n        altura = utente[\"dados_fisicos\"][0]\n        if altura > altura_maxima:\n            altura_maxima = altura\n            utente_alto = utente[\"nome\"]\n    \n    return utente_alto",
      "metadata": {
        "trusted": true
      },
      "outputs": [
        {
          "name": "stdout",
          "output_type": "stream",
          "text": "Altura max: 1.8\n"
        }
      ],
      "execution_count": 4
    },
    {
      "id": "ea60cf34-2ffa-4d0f-a95c-74e31e0b3781",
      "cell_type": "markdown",
      "source": "c) calcular o menor peso",
      "metadata": {}
    },
    {
      "id": "2c21ca78-f9aa-4da9-849e-bc25610eb05a",
      "cell_type": "code",
      "source": "def utente_menor_peso(utentes):\n    primeiro_utente = list(utentes.values())[0] \n    peso_minimo = float(primeiro_utente[\"dados_fisicos\"][1]\n    utente_leve = None\n    \n    for utente in utentes.values():\n        peso = utente[\"dados_fisicos\"][1]\n        if peso < peso_minimo:\n            peso_minimo = peso\n            utente_leve = utente[\"nome\"]\n    \n    return utente_leve",
      "metadata": {
        "trusted": true
      },
      "outputs": [],
      "execution_count": null
    },
    {
      "id": "1cc9d0af-d3be-4826-80cf-c5e01f996ffa",
      "cell_type": "markdown",
      "source": "d) calcular a média de altura e peso dos utentes",
      "metadata": {}
    },
    {
      "id": "96a7f980-121e-41c9-995c-f93a247a4a0e",
      "cell_type": "code",
      "source": "def calcular_media_altura_peso(utentes):\n    total_altura = 0\n    total_peso = 0\n    total_utentes = len(utentes)\n    \n    for utente in utentes.values():\n        altura = utente[\"dados_fisicos\"][0]\n        peso = utente[\"dados_fisicos\"][1]\n        \n        total_altura += altura\n        total_peso += peso\n    \n    media_altura = total_altura / total_utentes\n    media_peso = total_peso / total_utentes\n    \n    print(f'Média de altura: {media_altura:.2f}m')\n    print(f'Média de peso: {media_peso:.2f}kg')\n\ncalcular_media_altura_peso(utentes)\n",
      "metadata": {
        "trusted": true
      },
      "outputs": [],
      "execution_count": 7
    },
    {
      "id": "bb5c279c-9c3e-4203-8cd0-9e6733ef21cf",
      "cell_type": "markdown",
      "source": "e) calcular a idade de cada utente",
      "metadata": {}
    },
    {
      "id": "6d4ad289-6642-4c54-8ecf-a074286fb4a8",
      "cell_type": "code",
      "source": "from datetime import datetime\n\ndef calcular_idades(utentes):\n    hoje = datetime.today()\n    for utente in utentes.values():\n        data_nascimento = datetime.strptime(utente[\"data_nascimento\"], \"%Y-%m-%d\")\n        idade = hoje.year - data_nascimento.year - ((hoje.month, hoje.day) < (data_nascimento.month, data_nascimento.day))\n        print(f'{utente[\"nome\"]} tem {idade} anos.')\n\ncalcular_idades(utentes)",
      "metadata": {
        "trusted": true
      },
      "outputs": [
        {
          "name": "stdout",
          "output_type": "stream",
          "text": "João Silva tem 39 anos.\nMaria Oliveira tem 34 anos.\nCarlos Pereira tem 46 anos.\nAna Costa tem 24 anos.\n"
        }
      ],
      "execution_count": 4
    },
    {
      "id": "423e9dea-3b4e-4965-918b-22d61f33c71d",
      "cell_type": "markdown",
      "source": "f) adicionar o campo imc a cada um dos elementos",
      "metadata": {}
    },
    {
      "id": "d0c9e9b8-4d0f-47d9-b527-293ddf2b5d82",
      "cell_type": "code",
      "source": "for y in utentes.values():\n    altura = y['dados_fisicos'][0]\n    peso = y['dados_fisicos'][1]\n\n    y['imc']=peso/altura**2\n    y['dados_fisicos'].append(peso/altura**2)\n    \nprint(utentes)",
      "metadata": {
        "trusted": true
      },
      "outputs": [
        {
          "name": "stdout",
          "output_type": "stream",
          "text": "{'123456789': {'nome': 'João Silva', 'data_nascimento': '1985-07-10', 'dados_fisicos': [1.78, 82, 25.88057063502083], 'imc': 25.88057063502083}, '987654321': {'nome': 'Maria Oliveira', 'data_nascimento': '1990-03-25', 'dados_fisicos': [1.65, 58, 21.30394857667585], 'imc': 21.30394857667585}, '112233445': {'nome': 'Carlos Pereira', 'data_nascimento': '1978-11-15', 'dados_fisicos': [1.8, 75, 23.148148148148145], 'imc': 23.148148148148145}, '223344556': {'nome': 'Ana Costa', 'data_nascimento': '2000-05-22', 'dados_fisicos': [1.68, 65, 23.030045351473927], 'imc': 23.030045351473927}}\n"
        }
      ],
      "execution_count": 17
    },
    {
      "id": "d603e6fd-5b7c-4790-a014-c89a68658e2b",
      "cell_type": "markdown",
      "source": "g) calcular a mediana dos pesos",
      "metadata": {}
    },
    {
      "id": "18d7df71-5e47-4773-81e6-d24575a3c1d0",
      "cell_type": "code",
      "source": "pesos=[]\nfor y in utentes.values():\n   pesos.append(y['dados_fisicos'][1])\n\npesos_ordenados = sorted(pesos)\n\nprint(pesos_ordenados)\nn=len(pesos_ordenados)\n\nif( n % 2 ==0)\n  mediana=(pesos_ordenados[ n/2 -1] + pesos_ordenados[n/2]  )/ 2\nelse\n  mediana = pesos_ordenados[n//2]",
      "metadata": {
        "trusted": true
      },
      "outputs": [
        {
          "name": "stdout",
          "output_type": "stream",
          "text": "[58, 65, 75, 82]\n"
        }
      ],
      "execution_count": 21
    },
    {
      "id": "fd8408db-0f1b-49fe-a76b-ce1322e04902",
      "cell_type": "markdown",
      "source": "h) adicionar o seguinte elemento ao dicionário “utentes”\nNome: Gilberto Resende\nData Nascimento: 1990-04-10\nAltura: 1.76m\nPeso:88 Kg\n",
      "metadata": {}
    },
    {
      "id": "20471d18-3d95-4c80-afe3-e6167a77cebd",
      "cell_type": "code",
      "source": "novo_utentes = {\n        \"nome\": \"Rui Silva\",\n        \"data_nascimento\": \"1985-07-10\",\n    }\n\nutentes['9999999']=novo_utentes\n\nprint(utentes)\n",
      "metadata": {
        "trusted": true
      },
      "outputs": [
        {
          "name": "stdout",
          "output_type": "stream",
          "text": "{'123456789': {'nome': 'João Silva', 'data_nascimento': '1985-07-10', 'dados_fisicos': [1.78, 82, 25.88057063502083], 'imc': 25.88057063502083}, '987654321': {'nome': 'Maria Oliveira', 'data_nascimento': '1990-03-25', 'dados_fisicos': [1.65, 58, 21.30394857667585], 'imc': 21.30394857667585}, '112233445': {'nome': 'Carlos Pereira', 'data_nascimento': '1978-11-15', 'dados_fisicos': [1.8, 75, 23.148148148148145], 'imc': 23.148148148148145}, '223344556': {'nome': 'Ana Costa', 'data_nascimento': '2000-05-22', 'dados_fisicos': [1.68, 65, 23.030045351473927], 'imc': 23.030045351473927}, 9999999: {'nome': 'Rui Silva', 'data_nascimento': '1985-07-10'}}\n"
        }
      ],
      "execution_count": 24
    },
    {
      "id": "4deb4586-0dd6-4914-b8a1-2c43a49aa96b",
      "cell_type": "markdown",
      "source": "i) verificar se existe algum utente com os dados da lista “dados_pessoais”(do exercício anterior)",
      "metadata": {}
    },
    {
      "id": "3826ca01-5ace-4ce1-b63b-d262a4cf76a9",
      "cell_type": "code",
      "source": "utente_id = \"9999999\"\n\nif utente_id in utentes:\n    print(f\"O utente com o ID {utente_id} existe no dicionário.\")\nelse:\n    print(f\"O utente com o ID {utente_id} NÃO existe no dicionário.\")",
      "metadata": {
        "trusted": true
      },
      "outputs": [],
      "execution_count": null
    },
    {
      "id": "6d2baa45-3e1d-405e-9380-77f53f43759b",
      "cell_type": "markdown",
      "source": "j) escrever o conteúdo da lista “utentes” no ficheiro “utentes.csv”",
      "metadata": {}
    },
    {
      "id": "587b510b-46ea-4c64-9ee6-c551b0797fd6",
      "cell_type": "code",
      "source": "nome_ficheiro = 'utentes.csv'\nwith open(\"utentes.csv\", mode='w', newline='', encoding='utf-8') as file:\n    writer = csv.writer(file)\n\n    writer.writerow([\"ID\", \"Nome\", \"Data de Nascimento\", \"Altura (m)\", \"Peso (kg)\"])\n    \n    for utente_id, utente in utentes.items():\n        nome = utente[\"nome\"]\n        data_nascimento = utente[\"data_nascimento\"]\n        altura, peso = utente[\"dados_fisicos\"]\n        \n        writer.writerow([utente_id, nome, data_nascimento, altura, peso])\n\nprint(f\"Dados dos utentes gravados com sucesso no ficheiro {nome_ficheiro}\")",
      "metadata": {
        "trusted": true
      },
      "outputs": [],
      "execution_count": null
    },
    {
      "id": "2b259e04-b5f3-4efc-96cd-76444f292ec4",
      "cell_type": "markdown",
      "source": "k) criar a lista “utentes_lista” apartir do dicionário “utentes”",
      "metadata": {}
    },
    {
      "id": "115ae5b8-4c20-4f54-8e5d-baf20c9c0875",
      "cell_type": "code",
      "source": "utentes_lista = []\n\nfor utente_id, utente in utentes.items():\n    nome = utente[\"nome\"]\n    data_nascimento = utente[\"data_nascimento\"]\n    altura, peso = utente[\"dados_fisicos\"]\n    \n    utentes_lista.append([utente_id, nome, data_nascimento, altura, peso])\n\nprint(utentes_lista)",
      "metadata": {
        "trusted": true
      },
      "outputs": [],
      "execution_count": null
    }
  ]
}